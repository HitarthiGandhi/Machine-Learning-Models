{
 "cells": [
  {
   "cell_type": "code",
   "execution_count": 191,
   "metadata": {},
   "outputs": [],
   "source": [
    "#Importing libraries\n",
    "import numpy as np\n",
    "import matplotlib.pyplot as plt\n",
    "import pandas as pd\n",
    "import random\n",
    "import math"
   ]
  },
  {
   "cell_type": "code",
   "execution_count": 192,
   "metadata": {},
   "outputs": [
    {
     "name": "stdout",
     "output_type": "stream",
     "text": [
      "    Species  Weight  Length1  Length2  Length3   Height   Width\n",
      "0     Bream   242.0     23.2     25.4     30.0  11.5200  4.0200\n",
      "1     Bream   290.0     24.0     26.3     31.2  12.4800  4.3056\n",
      "2     Bream   340.0     23.9     26.5     31.1  12.3778  4.6961\n",
      "3     Bream   363.0     26.3     29.0     33.5  12.7300  4.4555\n",
      "4     Bream   430.0     26.5     29.0     34.0  12.4440  5.1340\n",
      "..      ...     ...      ...      ...      ...      ...     ...\n",
      "154   Smelt    12.2     11.5     12.2     13.4   2.0904  1.3936\n",
      "155   Smelt    13.4     11.7     12.4     13.5   2.4300  1.2690\n",
      "156   Smelt    12.2     12.1     13.0     13.8   2.2770  1.2558\n",
      "157   Smelt    19.7     13.2     14.3     15.2   2.8728  2.0672\n",
      "158   Smelt    19.9     13.8     15.0     16.2   2.9322  1.8792\n",
      "\n",
      "[159 rows x 7 columns]\n"
     ]
    }
   ],
   "source": [
    "#Reading data from CSV file\n",
    "Dataset = pd.read_csv('Fish.csv')\n",
    "print(Dataset)"
   ]
  },
  {
   "cell_type": "code",
   "execution_count": 193,
   "metadata": {},
   "outputs": [
    {
     "data": {
      "text/plain": [
       "0    242.0\n",
       "1    290.0\n",
       "2    340.0\n",
       "3    363.0\n",
       "4    430.0\n",
       "Name: Weight, dtype: float64"
      ]
     },
     "execution_count": 193,
     "metadata": {},
     "output_type": "execute_result"
    }
   ],
   "source": [
    "#Read only Column name Weight Data\n",
    "dataset1 = Dataset['Weight']\n",
    "dataset1.head()"
   ]
  },
  {
   "cell_type": "code",
   "execution_count": 194,
   "metadata": {},
   "outputs": [],
   "source": [
    "# Select model from the Scikitlearn and then divided the data into 80% Training and 20% Testing\n",
    "from sklearn.model_selection import train_test_split\n",
    "Train, Test = train_test_split(Dataset, test_size=0.2, random_state=12)"
   ]
  },
  {
   "cell_type": "code",
   "execution_count": 195,
   "metadata": {},
   "outputs": [],
   "source": [
    "# Create CSV file for TrainData and TestData\n",
    "Train.to_csv('TrainData.csv' ,index=False)\n",
    "Test.to_csv('TestData.csv',index = False)"
   ]
  },
  {
   "cell_type": "code",
   "execution_count": 196,
   "metadata": {},
   "outputs": [],
   "source": [
    "# Read TrainData and TestData CSV file\n",
    "Train_data = pd.read_csv(\"TrainData.csv\")\n",
    "Test_data = pd.read_csv(\"TestData.csv\")"
   ]
  },
  {
   "cell_type": "code",
   "execution_count": 197,
   "metadata": {},
   "outputs": [
    {
     "name": "stdout",
     "output_type": "stream",
     "text": [
      "['Length1', 'Length2', 'Length3', 'Height', 'Width']\n",
      "['Weight']\n"
     ]
    }
   ],
   "source": [
    "# Create variable input_features and Output for the Simple linear regression\n",
    "input_features = ['Length1' , 'Length2' , 'Length3' , 'Height' , 'Width']\n",
    "print(input_features)\n",
    "output = ['Weight']\n",
    "print(output)"
   ]
  },
  {
   "cell_type": "markdown",
   "metadata": {},
   "source": [
    "###### Q.1 Write a generic function that accepts a column of data ‘input_feature’ and another column ‘output’ and returns the Simple Linear Regression parameters ‘intercept’ and ‘slope’. Use the closed form solution to calculate the slope and intercept."
   ]
  },
  {
   "cell_type": "code",
   "execution_count": 198,
   "metadata": {},
   "outputs": [],
   "source": [
    "# Create function for simple linear regression which taking two parameters one for input_features and one for Output.\n",
    "def simple_linear_regression(input_features, output):\n",
    "    sumY = output.sum()\n",
    "    sumX = input_features.sum()\n",
    "    sumYX = (output*input_features).sum()\n",
    "    sumXX = (input_features**2).sum()\n",
    "    n = float(len(input_features))\n",
    "    slope = (sumYX - ((sumY*sumX)/n))/(sumXX - ((sumX*sumX)/n))\n",
    "    #print(slope)\n",
    "    intercept = (sumY/n) - slope*(sumX/n)\n",
    "    #print(intercept)\n",
    "    return(intercept, slope)"
   ]
  },
  {
   "cell_type": "code",
   "execution_count": 199,
   "metadata": {},
   "outputs": [
    {
     "name": "stdout",
     "output_type": "stream",
     "text": [
      "Intercept: 1.0\n",
      "Slope: 1.0\n"
     ]
    }
   ],
   "source": [
    "# This is the sample test function where we know the answer and we passed a value. In particular we create feature and then output exactly on a line. \n",
    "# output = 1 + 1*input_feature then our output for the intercept and slope should be 1.\n",
    "# Below code is taken from the Wiriyapong, B., & TH, K. (2020). bensw. Retrieved 20 October 2020, from http://www.bensw.xyz/regression/Simple-Linear-Regression/\n",
    "test_feature = pd.DataFrame(range(5))\n",
    "test_output = pd.DataFrame(1+1*test_feature)\n",
    "(test_intercept, test_slope) =  simple_linear_regression(test_feature, test_output)\n",
    "print(\"Intercept: \" + str(test_intercept[0]))\n",
    "print(\"Slope: \" + str(test_slope[0]))"
   ]
  },
  {
   "cell_type": "markdown",
   "metadata": {},
   "source": [
    "###### Q.2 Write a function that accepts a column of data ‘input_feature’, the ‘slope’, and the ‘intercept’ you learned, and returns a column of predictions ‘predicted_output’ for each entry in the input column."
   ]
  },
  {
   "cell_type": "code",
   "execution_count": 200,
   "metadata": {},
   "outputs": [],
   "source": [
    "# We have three parameters for the model predeiction. Below function return the predticted outvalues for the input_features, Slope and Intercept.\n",
    "def Regrssion_Prediction(input_features, intercept, slope):\n",
    "    predicted_OutputValues = intercept + slope*input_features\n",
    "    return predicted_outputValues\n"
   ]
  },
  {
   "cell_type": "markdown",
   "metadata": {},
   "source": [
    "###### Q.3 Write a function that accepts a column of data: ‘input_feature’, and ‘output’ and the regression parameters ‘slope’ and ‘intercept’ and outputs the Residual Sum of Squares (RSS)."
   ]
  },
  {
   "cell_type": "code",
   "execution_count": 201,
   "metadata": {},
   "outputs": [],
   "source": [
    "# For the prediction we evalute our model using Residual sum of squres(RSS). \n",
    "# RSS is the difference between the predicted output and true output.\n",
    "# Below function gives RSS for a simple linear regression with the parameters input_features, Output, Intercept and Slope.\n",
    "def Residual_Squares_Of_Sum(input_features, output, intercept, slope):\n",
    "    predicted_valuesouput = intercept + slope*input_features\n",
    "    residuals_output = output - predicted_valuesoutput\n",
    "    residuals_squre = residuals_output * residuals_output\n",
    "    RSS = residual_square.sum()\n",
    "    return(RSS)\n",
    "\n"
   ]
  },
  {
   "cell_type": "code",
   "execution_count": 209,
   "metadata": {},
   "outputs": [],
   "source": [
    "#x = Dataset.drop('Species' , axis=1)\n",
    "#y = Dataset.Weight\n",
    "x_train,x_test,y_train,y_test=train_test_split(x,y,test_size=0.2)\n",
    "#x_train.head()\n",
    "#len(x_train)"
   ]
  },
  {
   "cell_type": "markdown",
   "metadata": {},
   "source": [
    "###### Q.4  Use your function to estimate the slope and intercept on the training data to predict weight of fish for each one of the following (one at a time) inputs. Save each model (slope and intercept) separately. ‘Weight of the fish’ will be the ‘output’ and each of the following as an ‘input_feature’."
   ]
  },
  {
   "cell_type": "code",
   "execution_count": 210,
   "metadata": {},
   "outputs": [
    {
     "name": "stdout",
     "output_type": "stream",
     "text": [
      "Intercept_Length1: -480.0884960039758\n",
      "Slope_Length1 33.416258748400296\n",
      "Intercept_Lenght2: -494.3214698885416\n",
      "Slope_Length2 31.32767883570932\n",
      "Intercept_Length3: -510.8409515559273\n",
      "Slope_Length3 29.00854679318342\n",
      "Intercept_Height -156.29185369094796\n",
      "Slope_Height 60.450449066829364\n",
      "Intercept_Width:  -471.6902324034189\n",
      "Slope_Width:  192.89807114052095\n"
     ]
    }
   ],
   "source": [
    "# We have different features for the fish data. But we make simple linear regrssion function for the different input_features in the comaprision of the Weight. \n",
    "# Below code estimate the interecept and slope for the each features. \n",
    "# Here we included Width,Length1,Length2,Length3 and Height as input_features\n",
    "\n",
    "Length1_intercept, Length1_slope = simple_linear_regression(x_train['Length1'],y_train)\n",
    "print(\"Intercept_Length1:\", Length1_intercept)\n",
    "print(\"Slope_Length1\" , Length1_slope)\n",
    "\n",
    "Length2_intercept, Length2_slope = simple_linear_regression(x_train['Length2'],y_train)\n",
    "print(\"Intercept_Lenght2:\", Length2_intercept)\n",
    "print(\"Slope_Length2\" , Length2_slope)\n",
    "\n",
    "Length3_intercept, Length3_slope = simple_linear_regression(x_train['Length3'],y_train)\n",
    "print(\"Intercept_Length3:\", Length3_intercept)\n",
    "print(\"Slope_Length3\" , Length3_slope)\n",
    "\n",
    "Height_intercept, Height_slope = simple_linear_regression(x_train['Height'],y_train)\n",
    "print(\"Intercept_Height\", Height_intercept)\n",
    "print(\"Slope_Height\" , Height_slope)\n",
    "\n",
    "Width_intercept, Width_slope = simple_linear_regression(x_train['Width'],y_train)\n",
    "print(\"Intercept_Width: \",Width_intercept)\n",
    "print(\"Slope_Width: \",Width_slope)\n",
    "\n"
   ]
  },
  {
   "cell_type": "markdown",
   "metadata": {},
   "source": [
    "##### Q.5 Using above estimated slopes and intercepts for each of model, fit a line through training data points. Draw separate plot for each of the ‘input_feature’."
   ]
  },
  {
   "cell_type": "code",
   "execution_count": 204,
   "metadata": {},
   "outputs": [
    {
     "data": {
      "image/png": "[encoded data removed]",
      "text/plain": [
       "<Figure size 432x288 with 1 Axes>"
      ]
     },
     "metadata": {
      "needs_background": "light"
     },
     "output_type": "display_data"
    },
    {
     "data": {
      "text/plain": [
       "<Figure size 432x288 with 0 Axes>"
      ]
     },
     "metadata": {},
     "output_type": "display_data"
    }
   ],
   "source": [
    "#Below code is fit a line over training data using the slopes and intercept which we estimated above.\n",
    "#We use predicted output values to plot a best fit line over the data points. \n",
    "\n",
    "# plot graph for Width VS Weight\n",
    "Width_plot = x_train.Width\n",
    "Weight_plot = x_train.Weight\n",
    "width_plotline = Width_plot * Width_slope + Width_intercept\n",
    "\n",
    "plt.figure()\n",
    "plt.plot(Width_plot,Weight_plot, 'b.')\n",
    "plt.plot(Width_plot,width_plotline, 'r-')\n",
    "plt.title(\"Width VS Weight Graph\")\n",
    "plt.xlabel(\"Width\")\n",
    "plt.ylabel(\"Predicted_Weightoutput \")\n",
    "plt.show()\n",
    "plt.savefig('width graph.png')\n"
   ]
  },
  {
   "cell_type": "code",
   "execution_count": 205,
   "metadata": {},
   "outputs": [
    {
     "data": {
      "image/png": "[encoded data removed]",
      "text/plain": [
       "<Figure size 432x288 with 1 Axes>"
      ]
     },
     "metadata": {
      "needs_background": "light"
     },
     "output_type": "display_data"
    },
    {
     "data": {
      "text/plain": [
       "<Figure size 432x288 with 0 Axes>"
      ]
     },
     "metadata": {},
     "output_type": "display_data"
    }
   ],
   "source": [
    "#plot graph for length1 VS Weight\n",
    "Length1_plot = x_train.Length1\n",
    "Weight_plot = x_train.Weight\n",
    "Length1_plotline = Length1_plot * Length1_slope + Length1_intercept\n",
    "\n",
    "plt.figure()\n",
    "plt.plot(Length1_plot,Weight_plot, 'b.')\n",
    "plt.plot(Length1_plot,Length1_plotline, 'r-')\n",
    "plt.title(\"Length1 VS Weight Graph\")\n",
    "plt.xlabel(\"Length1\")\n",
    "plt.ylabel(\"Predicted_Weightoutput \")\n",
    "plt.show()\n",
    "plt.savefig('Length1 graph.png')\n"
   ]
  },
  {
   "cell_type": "code",
   "execution_count": 206,
   "metadata": {},
   "outputs": [
    {
     "data": {
      "image/png": "[encoded data removed]",
      "text/plain": [
       "<Figure size 432x288 with 1 Axes>"
      ]
     },
     "metadata": {
      "needs_background": "light"
     },
     "output_type": "display_data"
    },
    {
     "data": {
      "text/plain": [
       "<Figure size 432x288 with 0 Axes>"
      ]
     },
     "metadata": {},
     "output_type": "display_data"
    }
   ],
   "source": [
    "#plot graph for length2 VS Weight\n",
    "Length2_plot = x_train.Length2\n",
    "Weight_plot = x_train.Weight\n",
    "Length2_plotline = Length2_plot * Length2_slope + Length2_intercept\n",
    "\n",
    "plt.figure()\n",
    "plt.plot(Length2_plot,Weight_plot, 'b.')\n",
    "plt.plot(Length2_plot,Length2_plotline, 'r-')\n",
    "plt.title(\"Length2 VS Weight Graph\")\n",
    "plt.xlabel(\"Length2\")\n",
    "plt.ylabel(\"Predicted_Weightoutput\")\n",
    "plt.show()\n",
    "plt.savefig('Length2 graph.png')"
   ]
  },
  {
   "cell_type": "code",
   "execution_count": 207,
   "metadata": {},
   "outputs": [
    {
     "data": {
      "image/png": "[encoded data removed]",
      "text/plain": [
       "<Figure size 432x288 with 1 Axes>"
      ]
     },
     "metadata": {
      "needs_background": "light"
     },
     "output_type": "display_data"
    },
    {
     "data": {
      "text/plain": [
       "<Figure size 432x288 with 0 Axes>"
      ]
     },
     "metadata": {},
     "output_type": "display_data"
    }
   ],
   "source": [
    "#plot graph for length3 VS Weight\n",
    "Length3_plot = x_train.Length3\n",
    "Weight_plot = x_train.Weight\n",
    "Length3_plotline = Length3_plot * Length3_slope + Length3_intercept\n",
    "\n",
    "plt.figure()\n",
    "plt.plot(Length3_plot,Weight_plot, 'b.')\n",
    "plt.plot(Length3_plot,Length3_plotline, 'r-')\n",
    "plt.title(\"Length3 VS Weight Graph\")\n",
    "plt.xlabel(\"Length3\")\n",
    "plt.ylabel(\"Predicted_Weightoutput\")\n",
    "plt.show()\n",
    "plt.savefig('Length3 graph.png')"
   ]
  },
  {
   "cell_type": "code",
   "execution_count": 208,
   "metadata": {},
   "outputs": [
    {
     "data": {
      "image/png": "[encoded data removed]",
      "text/plain": [
       "<Figure size 432x288 with 1 Axes>"
      ]
     },
     "metadata": {
      "needs_background": "light"
     },
     "output_type": "display_data"
    },
    {
     "data": {
      "text/plain": [
       "<Figure size 432x288 with 0 Axes>"
      ]
     },
     "metadata": {},
     "output_type": "display_data"
    }
   ],
   "source": [
    "#plot graph for Height VS Weight\n",
    "Height_plot = x_train.Height\n",
    "Weight_plot = x_train.Weight\n",
    "Height_plotline = Height_plot * Height_slope + Height_intercept\n",
    "\n",
    "plt.figure()\n",
    "plt.plot(Height_plot,Weight_plot, 'b.')\n",
    "plt.plot(Height_plot,Height_plotline, 'r-')\n",
    "plt.title(\"Height VS Weight Graph\")\n",
    "plt.xlabel(\"Height\")\n",
    "plt.ylabel(\"Predicted_Weightoutput\")\n",
    "plt.show()\n",
    "plt.savefig('Height graph.png')"
   ]
  },
  {
   "cell_type": "markdown",
   "metadata": {},
   "source": [
    "##### Q. 6 Plot the RSS vs input_features for training and test data. Which model has lowest RSS on TEST data? Think about why this might be the case."
   ]
  },
  {
   "cell_type": "code",
   "execution_count": 125,
   "metadata": {},
   "outputs": [
    {
     "name": "stdout",
     "output_type": "stream",
     "text": [
      "Testdata_rss_length1: 606299.8714113776\n",
      "Traindata_rss_length1: 2663645.009040391\n",
      "Testdata_rss_length2: 600982.9979569095\n",
      "Traindata_rss_length2: 2561732.472479767\n",
      "Testdata_rss_length3: 572446.601925842\n",
      "Traindata_rss_length3: 2425728.299909344\n",
      "Testdata_rss_width: 782346.5345385217\n",
      "Traindata_rss_width: 3574638.37090363\n",
      "Testdata_rss_height: 1275145.8051637989\n",
      "Traindata_rss_height: 8352566.939195981\n"
     ]
    }
   ],
   "source": [
    "# Below function calcultaing the RSS value for the training and testing data. \n",
    "# Here we included Width,Length1,Length2,Length3 and Height as input_features\n",
    "\n",
    "#RSS values for Length1\n",
    "Testdata_rss_length1 = Residual_Squares_Of_Sum(x_test['Length1'],y_test ,Length1_intercept , Length1_slope)\n",
    "print('Testdata_rss_length1:' ,Testdata_rss_length1)\n",
    "Traindata_rss_length1 = Residual_Squares_Of_Sum(x_train['Length1'], y_train ,Length1_intercept , Length1_slope)\n",
    "print('Traindata_rss_length1:' ,Traindata_rss_length1)\n",
    "\n",
    "#RSS values for Length2\n",
    "Testdata_rss_length2 = Residual_Squares_Of_Sum(x_test['Length2'], y_test,Length2_intercept , Length2_slope)\n",
    "print('Testdata_rss_length2:' , Testdata_rss_length2)\n",
    "Traindata_rss_length2 = Residual_Squares_Of_Sum(x_train['Length2'], y_train,Length2_intercept , Length2_slope)\n",
    "print('Traindata_rss_length2:', Traindata_rss_length2)\n",
    "\n",
    "#RSS values for Length3\n",
    "Testdata_rss_length3 = Residual_Squares_Of_Sum(x_test['Length3'], y_test,Length3_intercept , Length3_slope)\n",
    "print('Testdata_rss_length3:',Testdata_rss_length3)\n",
    "Traindata_rss_length3 = Residual_Squares_Of_Sum(x_train['Length3'], y_train,Length3_intercept , Length3_slope)\n",
    "print('Traindata_rss_length3:',Traindata_rss_length3)\n",
    "\n",
    "#RSS Values for Width\n",
    "Testdata_rss_width = Residual_Squares_Of_Sum(x_test['Width'], y_test,Width_intercept , Width_slope)\n",
    "print('Testdata_rss_width:',Testdata_rss_width)\n",
    "Traindata_rss_width = Residual_Squares_Of_Sum(x_train['Width'], y_train,Width_intercept , Width_slope)\n",
    "print('Traindata_rss_width:',Traindata_rss_width)\n",
    "\n",
    "#RSS values for Height\n",
    "Testdata_rss_height = Residual_Squares_Of_Sum(x_test['Height'], y_test,Height_intercept , Height_slope)\n",
    "print('Testdata_rss_height:' ,Testdata_rss_height)\n",
    "Traindata_rss_height = Residual_Squares_Of_Sum(x_train['Height'], y_train,Height_intercept , Height_slope)\n",
    "print('Traindata_rss_height:',Traindata_rss_height)"
   ]
  },
  {
   "cell_type": "code",
   "execution_count": 175,
   "metadata": {},
   "outputs": [],
   "source": [
    "# Below code takes values RSS values from the list and plotting the bar graph. \n",
    "H = np.arange(5)\n",
    "Features = ['Length1' , 'Length2' , 'Length3' , 'Width' , 'Height']\n",
    "for m in H:\n",
    "    TestDataG = [Testdata_rss_length1,Testdata_rss_length2,Testdata_rss_length3,Testdata_rss_width,Testdata_rss_height]\n",
    "for k in H:\n",
    "    TrainDataG = [Traindata_rss_length1,Traindata_rss_length2,Traindata_rss_length3,Traindata_rss_width,Traindata_rss_height]   "
   ]
  },
  {
   "cell_type": "code",
   "execution_count": 176,
   "metadata": {},
   "outputs": [
    {
     "data": {
      "image/png": "[encoded data removed]",
      "text/plain": [
       "<Figure size 432x288 with 1 Axes>"
      ]
     },
     "metadata": {
      "needs_background": "light"
     },
     "output_type": "display_data"
    },
    {
     "data": {
      "text/plain": [
       "<Figure size 432x288 with 0 Axes>"
      ]
     },
     "metadata": {},
     "output_type": "display_data"
    }
   ],
   "source": [
    "#plot the graph for RSS Vs TestData.\n",
    "plt.figure()\n",
    "plt.bar(Features,TestDataG)\n",
    "plt.title(\"RSS vs TestData\")\n",
    "plt.xlabel(\"Input_Features\")\n",
    "plt.ylabel(\"RSS Values\")\n",
    "plt.show()\n",
    "plt.savefig('RSS Vs TestData.png')"
   ]
  },
  {
   "cell_type": "code",
   "execution_count": 177,
   "metadata": {},
   "outputs": [
    {
     "data": {
      "image/png": "[encoded data removed]",
      "text/plain": [
       "<Figure size 432x288 with 1 Axes>"
      ]
     },
     "metadata": {
      "needs_background": "light"
     },
     "output_type": "display_data"
    },
    {
     "data": {
      "text/plain": [
       "<Figure size 432x288 with 0 Axes>"
      ]
     },
     "metadata": {},
     "output_type": "display_data"
    }
   ],
   "source": [
    "#plot the graph for RSS Vs TrainData.\n",
    "plt.figure()\n",
    "plt.bar(Features,TrainDataG)\n",
    "plt.title(\"RSS vs TrainData\")\n",
    "plt.xlabel(\"Input_Features\")\n",
    "plt.ylabel(\"RSS Values\")\n",
    "plt.show()\n",
    "plt.savefig('RSS Vs TrainData.png')"
   ]
  },
  {
   "attachments": {},
   "cell_type": "markdown",
   "metadata": {},
   "source": [
    "###### Q. 7 Will model improve if we take two or more ‘input_features’ at a time? In any case give reason.\n",
    "\n",
    "Yes, As per my research and implementation, model accuracy will be the increase by adding the two or more input_feature at a time. Because, when input_feature data is increasing it will increase the training data and higher the training data that means lower residuals (Error). Because adding more input features or columns increasing overfitting. Overfitting only happens in model when model considering noise and details both from the training dataset. Higher training data also decrease the model complexity.\n",
    "\n"
   ]
  },
  {
   "cell_type": "markdown",
   "metadata": {},
   "source": [
    "## REFRENCES"
   ]
  },
  {
   "cell_type": "markdown",
   "metadata": {},
   "source": [
    "\n",
    "[1] Wiriyapong, B., & TH, K. (2020). bensw. Retrieved 20 October 2020, from http://www.bensw.xyz/regression/Simple-Linear-Regression/\n",
    "\n",
    "[2] tuanavu/coursera-university-of-washington. (2020). Retrieved 20 October 2020, from https://github.com/tuanavu/coursera-university-of-washington/blob/master/machine_learning/2_regression/assignment/week1/README.MD\n",
    "\n",
    "[3] Linear Regression in Python with Scikit-Learn. (2020). Retrieved 20 October 2020, from https://stackabuse.com/linear-regression-in-python-with-scikit-learn/"
   ]
  }
 ],
 "metadata": {
  "kernelspec": {
   "display_name": "Python 3",
   "language": "python",
   "name": "python3"
  },
  "language_info": {
   "codemirror_mode": {
    "name": "ipython",
    "version": 3
   },
   "file_extension": ".py",
   "mimetype": "text/x-python",
   "name": "python",
   "nbconvert_exporter": "python",
   "pygments_lexer": "ipython3",
   "version": "3.8.3"
  }
 },
 "nbformat": 4,
 "nbformat_minor": 4
}
